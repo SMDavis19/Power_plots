{
 "cells": [
  {
   "cell_type": "markdown",
   "metadata": {},
   "source": [
    "## Observations and Insights "
   ]
  },
  {
   "cell_type": "markdown",
   "metadata": {},
   "source": []
  },
  {
   "cell_type": "code",
   "execution_count": 1,
   "metadata": {},
   "outputs": [
    {
     "data": {
      "text/html": [
       "<div>\n",
       "<style scoped>\n",
       "    .dataframe tbody tr th:only-of-type {\n",
       "        vertical-align: middle;\n",
       "    }\n",
       "\n",
       "    .dataframe tbody tr th {\n",
       "        vertical-align: top;\n",
       "    }\n",
       "\n",
       "    .dataframe thead th {\n",
       "        text-align: right;\n",
       "    }\n",
       "</style>\n",
       "<table border=\"1\" class=\"dataframe\">\n",
       "  <thead>\n",
       "    <tr style=\"text-align: right;\">\n",
       "      <th></th>\n",
       "      <th>Mouse ID</th>\n",
       "      <th>Drug Regimen</th>\n",
       "      <th>Sex</th>\n",
       "      <th>Age_months</th>\n",
       "      <th>Weight (g)</th>\n",
       "      <th>Timepoint</th>\n",
       "      <th>Tumor Volume (mm3)</th>\n",
       "      <th>Metastatic Sites</th>\n",
       "    </tr>\n",
       "  </thead>\n",
       "  <tbody>\n",
       "    <tr>\n",
       "      <th>0</th>\n",
       "      <td>k403</td>\n",
       "      <td>Ramicane</td>\n",
       "      <td>Male</td>\n",
       "      <td>21</td>\n",
       "      <td>16</td>\n",
       "      <td>0</td>\n",
       "      <td>45.000000</td>\n",
       "      <td>0</td>\n",
       "    </tr>\n",
       "    <tr>\n",
       "      <th>1</th>\n",
       "      <td>k403</td>\n",
       "      <td>Ramicane</td>\n",
       "      <td>Male</td>\n",
       "      <td>21</td>\n",
       "      <td>16</td>\n",
       "      <td>5</td>\n",
       "      <td>38.825898</td>\n",
       "      <td>0</td>\n",
       "    </tr>\n",
       "    <tr>\n",
       "      <th>2</th>\n",
       "      <td>k403</td>\n",
       "      <td>Ramicane</td>\n",
       "      <td>Male</td>\n",
       "      <td>21</td>\n",
       "      <td>16</td>\n",
       "      <td>10</td>\n",
       "      <td>35.014271</td>\n",
       "      <td>1</td>\n",
       "    </tr>\n",
       "    <tr>\n",
       "      <th>3</th>\n",
       "      <td>k403</td>\n",
       "      <td>Ramicane</td>\n",
       "      <td>Male</td>\n",
       "      <td>21</td>\n",
       "      <td>16</td>\n",
       "      <td>15</td>\n",
       "      <td>34.223992</td>\n",
       "      <td>1</td>\n",
       "    </tr>\n",
       "  </tbody>\n",
       "</table>\n",
       "</div>"
      ],
      "text/plain": [
       "  Mouse ID Drug Regimen   Sex  Age_months  Weight (g)  Timepoint  \\\n",
       "0     k403     Ramicane  Male          21          16          0   \n",
       "1     k403     Ramicane  Male          21          16          5   \n",
       "2     k403     Ramicane  Male          21          16         10   \n",
       "3     k403     Ramicane  Male          21          16         15   \n",
       "\n",
       "   Tumor Volume (mm3)  Metastatic Sites  \n",
       "0           45.000000                 0  \n",
       "1           38.825898                 0  \n",
       "2           35.014271                 1  \n",
       "3           34.223992                 1  "
      ]
     },
     "execution_count": 1,
     "metadata": {},
     "output_type": "execute_result"
    }
   ],
   "source": [
    "# Dependencies and Setup\n",
    "%matplotlib inline\n",
    "import matplotlib.pyplot as plt\n",
    "import pandas as pd\n",
    "import scipy.stats as st\n",
    "import numpy as np\n",
    "\n",
    "# Study data files\n",
    "mouse_metadata_path = \"data/Mouse_metadata.csv\"\n",
    "study_results_path = \"data/Study_results.csv\"\n",
    "\n",
    "# Read the mouse data and the study results\n",
    "mouse_metadata = pd.read_csv(mouse_metadata_path)\n",
    "study_results = pd.read_csv(study_results_path)\n",
    "\n",
    "# Combine the data into a single dataset\n",
    "df = pd.merge(mouse_metadata, study_results)\n",
    "\n",
    "# Display the data table for preview\n",
    "df.head(4)"
   ]
  },
  {
   "cell_type": "code",
   "execution_count": 2,
   "metadata": {},
   "outputs": [
    {
     "name": "stdout",
     "output_type": "stream",
     "text": [
      "1893\n"
     ]
    }
   ],
   "source": [
    "# Checking the number of mice.\n",
    "print(df['Mouse ID'].count())"
   ]
  },
  {
   "cell_type": "code",
   "execution_count": 3,
   "metadata": {},
   "outputs": [
    {
     "data": {
      "text/html": [
       "<div>\n",
       "<style scoped>\n",
       "    .dataframe tbody tr th:only-of-type {\n",
       "        vertical-align: middle;\n",
       "    }\n",
       "\n",
       "    .dataframe tbody tr th {\n",
       "        vertical-align: top;\n",
       "    }\n",
       "\n",
       "    .dataframe thead th {\n",
       "        text-align: right;\n",
       "    }\n",
       "</style>\n",
       "<table border=\"1\" class=\"dataframe\">\n",
       "  <thead>\n",
       "    <tr style=\"text-align: right;\">\n",
       "      <th></th>\n",
       "      <th>Mouse ID</th>\n",
       "      <th>Drug Regimen</th>\n",
       "      <th>Sex</th>\n",
       "      <th>Age_months</th>\n",
       "      <th>Weight (g)</th>\n",
       "      <th>Timepoint</th>\n",
       "      <th>Tumor Volume (mm3)</th>\n",
       "      <th>Metastatic Sites</th>\n",
       "    </tr>\n",
       "  </thead>\n",
       "  <tbody>\n",
       "    <tr>\n",
       "      <th>909</th>\n",
       "      <td>g989</td>\n",
       "      <td>Propriva</td>\n",
       "      <td>Female</td>\n",
       "      <td>21</td>\n",
       "      <td>26</td>\n",
       "      <td>0</td>\n",
       "      <td>45.000000</td>\n",
       "      <td>0</td>\n",
       "    </tr>\n",
       "    <tr>\n",
       "      <th>911</th>\n",
       "      <td>g989</td>\n",
       "      <td>Propriva</td>\n",
       "      <td>Female</td>\n",
       "      <td>21</td>\n",
       "      <td>26</td>\n",
       "      <td>5</td>\n",
       "      <td>47.570392</td>\n",
       "      <td>0</td>\n",
       "    </tr>\n",
       "    <tr>\n",
       "      <th>913</th>\n",
       "      <td>g989</td>\n",
       "      <td>Propriva</td>\n",
       "      <td>Female</td>\n",
       "      <td>21</td>\n",
       "      <td>26</td>\n",
       "      <td>10</td>\n",
       "      <td>49.880528</td>\n",
       "      <td>0</td>\n",
       "    </tr>\n",
       "    <tr>\n",
       "      <th>915</th>\n",
       "      <td>g989</td>\n",
       "      <td>Propriva</td>\n",
       "      <td>Female</td>\n",
       "      <td>21</td>\n",
       "      <td>26</td>\n",
       "      <td>15</td>\n",
       "      <td>53.442020</td>\n",
       "      <td>0</td>\n",
       "    </tr>\n",
       "    <tr>\n",
       "      <th>917</th>\n",
       "      <td>g989</td>\n",
       "      <td>Propriva</td>\n",
       "      <td>Female</td>\n",
       "      <td>21</td>\n",
       "      <td>26</td>\n",
       "      <td>20</td>\n",
       "      <td>54.657650</td>\n",
       "      <td>1</td>\n",
       "    </tr>\n",
       "  </tbody>\n",
       "</table>\n",
       "</div>"
      ],
      "text/plain": [
       "    Mouse ID Drug Regimen     Sex  Age_months  Weight (g)  Timepoint  \\\n",
       "909     g989     Propriva  Female          21          26          0   \n",
       "911     g989     Propriva  Female          21          26          5   \n",
       "913     g989     Propriva  Female          21          26         10   \n",
       "915     g989     Propriva  Female          21          26         15   \n",
       "917     g989     Propriva  Female          21          26         20   \n",
       "\n",
       "     Tumor Volume (mm3)  Metastatic Sites  \n",
       "909           45.000000                 0  \n",
       "911           47.570392                 0  \n",
       "913           49.880528                 0  \n",
       "915           53.442020                 0  \n",
       "917           54.657650                 1  "
      ]
     },
     "execution_count": 3,
     "metadata": {},
     "output_type": "execute_result"
    }
   ],
   "source": [
    "# Getting the duplicate mice by ID number that shows up for Mouse ID and Timepoint. \n",
    "DUPLICATE_DATA = df[df.duplicated(subset = ['Mouse ID','Timepoint'])]\n",
    "#DUPLICATE_DATA = df[df['Timepoint'].duplicated()]\n",
    "DUPLICATE_DATA\n",
    "# Not sure the above code is working properly..."
   ]
  },
  {
   "cell_type": "code",
   "execution_count": 4,
   "metadata": {},
   "outputs": [
    {
     "data": {
      "text/html": [
       "<div>\n",
       "<style scoped>\n",
       "    .dataframe tbody tr th:only-of-type {\n",
       "        vertical-align: middle;\n",
       "    }\n",
       "\n",
       "    .dataframe tbody tr th {\n",
       "        vertical-align: top;\n",
       "    }\n",
       "\n",
       "    .dataframe thead th {\n",
       "        text-align: right;\n",
       "    }\n",
       "</style>\n",
       "<table border=\"1\" class=\"dataframe\">\n",
       "  <thead>\n",
       "    <tr style=\"text-align: right;\">\n",
       "      <th></th>\n",
       "      <th>Mouse ID</th>\n",
       "      <th>Drug Regimen</th>\n",
       "      <th>Sex</th>\n",
       "      <th>Age_months</th>\n",
       "      <th>Weight (g)</th>\n",
       "      <th>Timepoint</th>\n",
       "      <th>Tumor Volume (mm3)</th>\n",
       "      <th>Metastatic Sites</th>\n",
       "    </tr>\n",
       "  </thead>\n",
       "  <tbody>\n",
       "    <tr>\n",
       "      <th>1</th>\n",
       "      <td>k403</td>\n",
       "      <td>Ramicane</td>\n",
       "      <td>Male</td>\n",
       "      <td>21</td>\n",
       "      <td>16</td>\n",
       "      <td>5</td>\n",
       "      <td>38.825898</td>\n",
       "      <td>0</td>\n",
       "    </tr>\n",
       "    <tr>\n",
       "      <th>2</th>\n",
       "      <td>k403</td>\n",
       "      <td>Ramicane</td>\n",
       "      <td>Male</td>\n",
       "      <td>21</td>\n",
       "      <td>16</td>\n",
       "      <td>10</td>\n",
       "      <td>35.014271</td>\n",
       "      <td>1</td>\n",
       "    </tr>\n",
       "    <tr>\n",
       "      <th>3</th>\n",
       "      <td>k403</td>\n",
       "      <td>Ramicane</td>\n",
       "      <td>Male</td>\n",
       "      <td>21</td>\n",
       "      <td>16</td>\n",
       "      <td>15</td>\n",
       "      <td>34.223992</td>\n",
       "      <td>1</td>\n",
       "    </tr>\n",
       "  </tbody>\n",
       "</table>\n",
       "</div>"
      ],
      "text/plain": [
       "  Mouse ID Drug Regimen   Sex  Age_months  Weight (g)  Timepoint  \\\n",
       "1     k403     Ramicane  Male          21          16          5   \n",
       "2     k403     Ramicane  Male          21          16         10   \n",
       "3     k403     Ramicane  Male          21          16         15   \n",
       "\n",
       "   Tumor Volume (mm3)  Metastatic Sites  \n",
       "1           38.825898                 0  \n",
       "2           35.014271                 1  \n",
       "3           34.223992                 1  "
      ]
     },
     "execution_count": 4,
     "metadata": {},
     "output_type": "execute_result"
    }
   ],
   "source": [
    "# Optional: Get all the data for the duplicate mouse ID. \n",
    "DUP_MOUSE_ID = df[df.duplicated(['Mouse ID'])]\n",
    "DUP_MOUSE_ID.head(3)"
   ]
  },
  {
   "cell_type": "code",
   "execution_count": 5,
   "metadata": {},
   "outputs": [
    {
     "data": {
      "text/html": [
       "<div>\n",
       "<style scoped>\n",
       "    .dataframe tbody tr th:only-of-type {\n",
       "        vertical-align: middle;\n",
       "    }\n",
       "\n",
       "    .dataframe tbody tr th {\n",
       "        vertical-align: top;\n",
       "    }\n",
       "\n",
       "    .dataframe thead th {\n",
       "        text-align: right;\n",
       "    }\n",
       "</style>\n",
       "<table border=\"1\" class=\"dataframe\">\n",
       "  <thead>\n",
       "    <tr style=\"text-align: right;\">\n",
       "      <th></th>\n",
       "      <th>Mouse ID</th>\n",
       "      <th>Drug Regimen</th>\n",
       "      <th>Sex</th>\n",
       "      <th>Age_months</th>\n",
       "      <th>Weight (g)</th>\n",
       "      <th>Timepoint</th>\n",
       "      <th>Tumor Volume (mm3)</th>\n",
       "      <th>Metastatic Sites</th>\n",
       "    </tr>\n",
       "  </thead>\n",
       "  <tbody>\n",
       "    <tr>\n",
       "      <th>9</th>\n",
       "      <td>k403</td>\n",
       "      <td>Ramicane</td>\n",
       "      <td>Male</td>\n",
       "      <td>21</td>\n",
       "      <td>16</td>\n",
       "      <td>45</td>\n",
       "      <td>22.050126</td>\n",
       "      <td>1</td>\n",
       "    </tr>\n",
       "    <tr>\n",
       "      <th>19</th>\n",
       "      <td>s185</td>\n",
       "      <td>Capomulin</td>\n",
       "      <td>Female</td>\n",
       "      <td>3</td>\n",
       "      <td>17</td>\n",
       "      <td>45</td>\n",
       "      <td>23.343598</td>\n",
       "      <td>1</td>\n",
       "    </tr>\n",
       "    <tr>\n",
       "      <th>29</th>\n",
       "      <td>x401</td>\n",
       "      <td>Capomulin</td>\n",
       "      <td>Female</td>\n",
       "      <td>16</td>\n",
       "      <td>15</td>\n",
       "      <td>45</td>\n",
       "      <td>28.484033</td>\n",
       "      <td>0</td>\n",
       "    </tr>\n",
       "    <tr>\n",
       "      <th>39</th>\n",
       "      <td>m601</td>\n",
       "      <td>Capomulin</td>\n",
       "      <td>Male</td>\n",
       "      <td>22</td>\n",
       "      <td>17</td>\n",
       "      <td>45</td>\n",
       "      <td>28.430964</td>\n",
       "      <td>1</td>\n",
       "    </tr>\n",
       "    <tr>\n",
       "      <th>49</th>\n",
       "      <td>g791</td>\n",
       "      <td>Ramicane</td>\n",
       "      <td>Male</td>\n",
       "      <td>11</td>\n",
       "      <td>16</td>\n",
       "      <td>45</td>\n",
       "      <td>29.128472</td>\n",
       "      <td>1</td>\n",
       "    </tr>\n",
       "    <tr>\n",
       "      <th>...</th>\n",
       "      <td>...</td>\n",
       "      <td>...</td>\n",
       "      <td>...</td>\n",
       "      <td>...</td>\n",
       "      <td>...</td>\n",
       "      <td>...</td>\n",
       "      <td>...</td>\n",
       "      <td>...</td>\n",
       "    </tr>\n",
       "    <tr>\n",
       "      <th>1859</th>\n",
       "      <td>z314</td>\n",
       "      <td>Stelasyn</td>\n",
       "      <td>Female</td>\n",
       "      <td>21</td>\n",
       "      <td>28</td>\n",
       "      <td>5</td>\n",
       "      <td>45.934712</td>\n",
       "      <td>0</td>\n",
       "    </tr>\n",
       "    <tr>\n",
       "      <th>1862</th>\n",
       "      <td>z435</td>\n",
       "      <td>Propriva</td>\n",
       "      <td>Female</td>\n",
       "      <td>12</td>\n",
       "      <td>26</td>\n",
       "      <td>10</td>\n",
       "      <td>48.710661</td>\n",
       "      <td>0</td>\n",
       "    </tr>\n",
       "    <tr>\n",
       "      <th>1872</th>\n",
       "      <td>z581</td>\n",
       "      <td>Infubinol</td>\n",
       "      <td>Female</td>\n",
       "      <td>24</td>\n",
       "      <td>25</td>\n",
       "      <td>45</td>\n",
       "      <td>62.754451</td>\n",
       "      <td>3</td>\n",
       "    </tr>\n",
       "    <tr>\n",
       "      <th>1882</th>\n",
       "      <td>z795</td>\n",
       "      <td>Naftisol</td>\n",
       "      <td>Female</td>\n",
       "      <td>13</td>\n",
       "      <td>29</td>\n",
       "      <td>45</td>\n",
       "      <td>65.741070</td>\n",
       "      <td>3</td>\n",
       "    </tr>\n",
       "    <tr>\n",
       "      <th>1892</th>\n",
       "      <td>z969</td>\n",
       "      <td>Naftisol</td>\n",
       "      <td>Male</td>\n",
       "      <td>9</td>\n",
       "      <td>30</td>\n",
       "      <td>45</td>\n",
       "      <td>73.867845</td>\n",
       "      <td>4</td>\n",
       "    </tr>\n",
       "  </tbody>\n",
       "</table>\n",
       "<p>249 rows × 8 columns</p>\n",
       "</div>"
      ],
      "text/plain": [
       "     Mouse ID Drug Regimen     Sex  Age_months  Weight (g)  Timepoint  \\\n",
       "9        k403     Ramicane    Male          21          16         45   \n",
       "19       s185    Capomulin  Female           3          17         45   \n",
       "29       x401    Capomulin  Female          16          15         45   \n",
       "39       m601    Capomulin    Male          22          17         45   \n",
       "49       g791     Ramicane    Male          11          16         45   \n",
       "...       ...          ...     ...         ...         ...        ...   \n",
       "1859     z314     Stelasyn  Female          21          28          5   \n",
       "1862     z435     Propriva  Female          12          26         10   \n",
       "1872     z581    Infubinol  Female          24          25         45   \n",
       "1882     z795     Naftisol  Female          13          29         45   \n",
       "1892     z969     Naftisol    Male           9          30         45   \n",
       "\n",
       "      Tumor Volume (mm3)  Metastatic Sites  \n",
       "9              22.050126                 1  \n",
       "19             23.343598                 1  \n",
       "29             28.484033                 0  \n",
       "39             28.430964                 1  \n",
       "49             29.128472                 1  \n",
       "...                  ...               ...  \n",
       "1859           45.934712                 0  \n",
       "1862           48.710661                 0  \n",
       "1872           62.754451                 3  \n",
       "1882           65.741070                 3  \n",
       "1892           73.867845                 4  \n",
       "\n",
       "[249 rows x 8 columns]"
      ]
     },
     "execution_count": 5,
     "metadata": {},
     "output_type": "execute_result"
    }
   ],
   "source": [
    "# Create a clean DataFrame by dropping the duplicate mouse by its ID.\n",
    "CLEAN_DATA = df.copy()\n",
    "Dups_dropped = CLEAN_DATA.drop_duplicates(subset=['Mouse ID'], keep='last')\n",
    "Dups_dropped"
   ]
  },
  {
   "cell_type": "code",
   "execution_count": 6,
   "metadata": {},
   "outputs": [
    {
     "data": {
      "text/plain": [
       "249"
      ]
     },
     "execution_count": 6,
     "metadata": {},
     "output_type": "execute_result"
    }
   ],
   "source": [
    "# Checking the number of mice in the clean DataFrame.\n",
    "len(Dups_dropped)"
   ]
  },
  {
   "cell_type": "markdown",
   "metadata": {},
   "source": [
    "## Summary Statistics"
   ]
  },
  {
   "cell_type": "code",
   "execution_count": 7,
   "metadata": {},
   "outputs": [
    {
     "data": {
      "text/plain": [
       "{'mean': [Age_months            12.730924\n",
       "  Weight (g)            26.116466\n",
       "  Timepoint             32.911647\n",
       "  Tumor Volume (mm3)    54.999137\n",
       "  Metastatic Sites       1.682731\n",
       "  dtype: float64],\n",
       " 'median': [Age_months            13.00000\n",
       "  Weight (g)            27.00000\n",
       "  Timepoint             45.00000\n",
       "  Tumor Volume (mm3)    55.84141\n",
       "  Metastatic Sites       1.00000\n",
       "  dtype: float64],\n",
       " 'variance': [Age_months             52.253919\n",
       "  Weight (g)             13.667833\n",
       "  Timepoint             239.169582\n",
       "  Tumor Volume (mm3)    160.151054\n",
       "  Metastatic Sites        1.757805\n",
       "  dtype: float64],\n",
       " 'standard deviation': [Age_months             7.228687\n",
       "  Weight (g)             3.697003\n",
       "  Timepoint             15.465109\n",
       "  Tumor Volume (mm3)    12.655080\n",
       "  Metastatic Sites       1.325823\n",
       "  dtype: float64],\n",
       " 'SEM': [Age_months            0.458099\n",
       "  Weight (g)            0.234288\n",
       "  Timepoint             0.980061\n",
       "  Tumor Volume (mm3)    0.801983\n",
       "  Metastatic Sites      0.084021\n",
       "  dtype: float64]}"
      ]
     },
     "execution_count": 7,
     "metadata": {},
     "output_type": "execute_result"
    }
   ],
   "source": [
    "# Generate a summary statistics table of , and SEM of the tumor volume for each regimen\n",
    "# Use groupby and summary statistical methods to calculate the following properties of each drug regimen: \n",
    "# mean, median, variance, standard deviation, and SEM of the tumor volume. \n",
    "# Assemble the resulting series into a single summary dataframe.\n",
    "\n",
    "MEAN = Dups_dropped.mean()\n",
    "MEDIAN = Dups_dropped.median()\n",
    "VARIANCE = Dups_dropped.var()\n",
    "STANDARD_DEVIATION = Dups_dropped.std()\n",
    "SEM = Dups_dropped.sem()\n",
    "\n",
    "SUMMARY_STATS =  ({\n",
    "                    'mean': [MEAN], \n",
    "                    'median': [MEDIAN],\n",
    "                    'variance': [VARIANCE],\n",
    "                    'standard deviation': [STANDARD_DEVIATION],\n",
    "                    'SEM': [SEM]\n",
    "                  })\n",
    "SUMMARY_STATS "
   ]
  },
  {
   "cell_type": "code",
   "execution_count": 8,
   "metadata": {},
   "outputs": [
    {
     "data": {
      "text/html": [
       "<div>\n",
       "<style scoped>\n",
       "    .dataframe tbody tr th:only-of-type {\n",
       "        vertical-align: middle;\n",
       "    }\n",
       "\n",
       "    .dataframe tbody tr th {\n",
       "        vertical-align: top;\n",
       "    }\n",
       "\n",
       "    .dataframe thead th {\n",
       "        text-align: right;\n",
       "    }\n",
       "</style>\n",
       "<table border=\"1\" class=\"dataframe\">\n",
       "  <thead>\n",
       "    <tr style=\"text-align: right;\">\n",
       "      <th></th>\n",
       "      <th>Age_months</th>\n",
       "      <th>Weight (g)</th>\n",
       "      <th>Timepoint</th>\n",
       "      <th>Tumor Volume (mm3)</th>\n",
       "      <th>Metastatic Sites</th>\n",
       "    </tr>\n",
       "  </thead>\n",
       "  <tbody>\n",
       "    <tr>\n",
       "      <th>mean</th>\n",
       "      <td>12.730924</td>\n",
       "      <td>26.116466</td>\n",
       "      <td>32.911647</td>\n",
       "      <td>54.999137</td>\n",
       "      <td>1.682731</td>\n",
       "    </tr>\n",
       "    <tr>\n",
       "      <th>median</th>\n",
       "      <td>13.000000</td>\n",
       "      <td>27.000000</td>\n",
       "      <td>45.000000</td>\n",
       "      <td>55.841410</td>\n",
       "      <td>1.000000</td>\n",
       "    </tr>\n",
       "    <tr>\n",
       "      <th>var</th>\n",
       "      <td>52.253919</td>\n",
       "      <td>13.667833</td>\n",
       "      <td>239.169582</td>\n",
       "      <td>160.151054</td>\n",
       "      <td>1.757805</td>\n",
       "    </tr>\n",
       "    <tr>\n",
       "      <th>std</th>\n",
       "      <td>7.228687</td>\n",
       "      <td>3.697003</td>\n",
       "      <td>15.465109</td>\n",
       "      <td>12.655080</td>\n",
       "      <td>1.325823</td>\n",
       "    </tr>\n",
       "    <tr>\n",
       "      <th>sem</th>\n",
       "      <td>0.458099</td>\n",
       "      <td>0.234288</td>\n",
       "      <td>0.980061</td>\n",
       "      <td>0.801983</td>\n",
       "      <td>0.084021</td>\n",
       "    </tr>\n",
       "  </tbody>\n",
       "</table>\n",
       "</div>"
      ],
      "text/plain": [
       "        Age_months  Weight (g)   Timepoint  Tumor Volume (mm3)  \\\n",
       "mean     12.730924   26.116466   32.911647           54.999137   \n",
       "median   13.000000   27.000000   45.000000           55.841410   \n",
       "var      52.253919   13.667833  239.169582          160.151054   \n",
       "std       7.228687    3.697003   15.465109           12.655080   \n",
       "sem       0.458099    0.234288    0.980061            0.801983   \n",
       "\n",
       "        Metastatic Sites  \n",
       "mean            1.682731  \n",
       "median          1.000000  \n",
       "var             1.757805  \n",
       "std             1.325823  \n",
       "sem             0.084021  "
      ]
     },
     "execution_count": 8,
     "metadata": {},
     "output_type": "execute_result"
    }
   ],
   "source": [
    "# Generate a summary statistics table of mean, median, variance, standard deviation, and SEM of the tumor volume for each regimen\n",
    "# Using the aggregation method, produce the same summary statistics in a single line\n",
    "\n",
    "stats_table = Dups_dropped.agg(['mean','median','var','std','sem'])\n",
    "stats_table"
   ]
  },
  {
   "cell_type": "markdown",
   "metadata": {},
   "source": [
    "## Bar and Pie Charts"
   ]
  },
  {
   "cell_type": "code",
   "execution_count": 9,
   "metadata": {},
   "outputs": [
    {
     "data": {
      "text/plain": [
       "Placebo      25\n",
       "Ceftamin     25\n",
       "Ramicane     25\n",
       "Propriva     25\n",
       "Ketapril     25\n",
       "Naftisol     25\n",
       "Capomulin    25\n",
       "Zoniferol    25\n",
       "Infubinol    25\n",
       "Stelasyn     24\n",
       "Name: Drug Regimen, dtype: int64"
      ]
     },
     "execution_count": 9,
     "metadata": {},
     "output_type": "execute_result"
    }
   ],
   "source": [
    "Dups_dropped['Drug Regimen'].value_counts()"
   ]
  },
  {
   "cell_type": "code",
   "execution_count": 10,
   "metadata": {},
   "outputs": [
    {
     "data": {
      "text/plain": [
       "([<matplotlib.axis.XTick at 0x7fd7b89f2ca0>,\n",
       "  <matplotlib.axis.XTick at 0x7fd7b89f2c70>,\n",
       "  <matplotlib.axis.XTick at 0x7fd7b89e77c0>,\n",
       "  <matplotlib.axis.XTick at 0x7fd7b89a9310>,\n",
       "  <matplotlib.axis.XTick at 0x7fd7b89a9820>,\n",
       "  <matplotlib.axis.XTick at 0x7fd7b89a9d30>,\n",
       "  <matplotlib.axis.XTick at 0x7fd7b89b8280>,\n",
       "  <matplotlib.axis.XTick at 0x7fd7b89b8790>,\n",
       "  <matplotlib.axis.XTick at 0x7fd7b89b8ca0>,\n",
       "  <matplotlib.axis.XTick at 0x7fd7b89a94f0>],\n",
       " [Text(0, 0, 'Capomulin'),\n",
       "  Text(1, 0, 'Propriva'),\n",
       "  Text(2, 0, 'Ramicane'),\n",
       "  Text(3, 0, 'Naftisol'),\n",
       "  Text(4, 0, 'Ketapril'),\n",
       "  Text(5, 0, 'Infubinol'),\n",
       "  Text(6, 0, 'Ceftamin'),\n",
       "  Text(7, 0, 'Placebo'),\n",
       "  Text(8, 0, 'Zoniferol'),\n",
       "  Text(9, 0, 'Stelasyn')])"
      ]
     },
     "execution_count": 10,
     "metadata": {},
     "output_type": "execute_result"
    },
    {
     "data": {
      "image/png": "[encoded data removed]",
      "text/plain": [
       "<Figure size 432x288 with 1 Axes>"
      ]
     },
     "metadata": {
      "needs_background": "light"
     },
     "output_type": "display_data"
    }
   ],
   "source": [
    "# Generate a bar plot showing the total number of measurements taken on each drug regimen using pandas.\n",
    "gender = [25, 25, 25 , 25, 25, 25, 25, 25, 25, 24]\n",
    "x_axis = np.arange(len(gender))\n",
    "\n",
    "plt.bar(x_axis, gender, color='coral', align=\"center\")\n",
    "\n",
    "tick_locations = [value for value in x_axis]\n",
    "plt.xticks(tick_locations, [\"Capomulin\", \"Propriva\", \"Ramicane\", \"Naftisol\", \"Ketapril\", \"Infubinol\", \"Ceftamin\", \"Placebo\", \"Zoniferol\", \"Stelasyn\"])"
   ]
  },
  {
   "cell_type": "code",
   "execution_count": 11,
   "metadata": {},
   "outputs": [
    {
     "data": {
      "text/plain": [
       "([<matplotlib.axis.XTick at 0x7fd7b8d12b50>,\n",
       "  <matplotlib.axis.XTick at 0x7fd7b8d12b20>,\n",
       "  <matplotlib.axis.XTick at 0x7fd7b8d0a700>,\n",
       "  <matplotlib.axis.XTick at 0x7fd7b8cbf1c0>,\n",
       "  <matplotlib.axis.XTick at 0x7fd7b8cbf6d0>,\n",
       "  <matplotlib.axis.XTick at 0x7fd7b8cbfbe0>,\n",
       "  <matplotlib.axis.XTick at 0x7fd7b8cc3130>,\n",
       "  <matplotlib.axis.XTick at 0x7fd7b8cc3640>,\n",
       "  <matplotlib.axis.XTick at 0x7fd7b8cc3b50>,\n",
       "  <matplotlib.axis.XTick at 0x7fd7b8cc3880>],\n",
       " [Text(0, 0, 'Capomulin'),\n",
       "  Text(1, 0, 'Propriva'),\n",
       "  Text(2, 0, 'Ramicane'),\n",
       "  Text(3, 0, 'Naftisol'),\n",
       "  Text(4, 0, 'Ketapril'),\n",
       "  Text(5, 0, 'Infubinol'),\n",
       "  Text(6, 0, 'Ceftamin'),\n",
       "  Text(7, 0, 'Placebo'),\n",
       "  Text(8, 0, 'Zoniferol'),\n",
       "  Text(9, 0, 'Stelasyn')])"
      ]
     },
     "execution_count": 11,
     "metadata": {},
     "output_type": "execute_result"
    },
    {
     "data": {
      "image/png": "[encoded data removed]",
      "text/plain": [
       "<Figure size 432x288 with 1 Axes>"
      ]
     },
     "metadata": {
      "needs_background": "light"
     },
     "output_type": "display_data"
    }
   ],
   "source": [
    "# Generate a bar plot showing the total number of measurements taken on each drug regimen using pyplot.\n",
    "regimen = [\"Capomulin\", \"Propriva\", \"Ramicane\", \"Naftisol\", \"Ketapril\", \"Infubinol\", \"Ceftamin\", \"Placebo\", \"Zoniferol\", \"Stelasyn\"]\n",
    "counts = [25, 25, 25 , 25, 25, 25, 25, 25, 25, 24]\n",
    "x_axis = np.arange(len(counts))\n",
    "\n",
    "plt.bar(x_axis, counts, color=\"b\", align=\"center\")\n",
    "\n",
    "tick_locations = [value for value in x_axis]\n",
    "plt.xticks(tick_locations, regimen)"
   ]
  },
  {
   "cell_type": "code",
   "execution_count": 12,
   "metadata": {},
   "outputs": [
    {
     "data": {
      "text/plain": [
       "([<matplotlib.patches.Wedge at 0x7fd7b8d6e6a0>,\n",
       "  <matplotlib.patches.Wedge at 0x7fd7b8d6eb20>],\n",
       " [Text(-0.7655308193487089, -0.9241009493704108, 'Male'),\n",
       "  Text(0.7017365844029833, 0.8470925369228766, 'Female')],\n",
       " [Text(-0.44655964462008013, -0.5390588871327395, '50.2%'),\n",
       "  Text(0.38276540967435446, 0.4620504746852053, '49.8%')])"
      ]
     },
     "execution_count": 12,
     "metadata": {},
     "output_type": "execute_result"
    },
    {
     "data": {
      "image/png": "[encoded data removed]",
      "text/plain": [
       "<Figure size 432x288 with 1 Axes>"
      ]
     },
     "metadata": {},
     "output_type": "display_data"
    }
   ],
   "source": [
    "# Generate a pie plot showing the distribution of female versus male mice using pandas\n",
    "labels = ['Male', 'Female']\n",
    "values = [125, 124]\n",
    "colors = ['lightskyblue', 'lightcoral']\n",
    "explode = (0.1, 0)\n",
    "\n",
    "plt.pie(values, explode = explode, labels = labels, colors =colors,\n",
    "        autopct=\"%1.1f%%\", startangle=140)"
   ]
  },
  {
   "cell_type": "code",
   "execution_count": 13,
   "metadata": {},
   "outputs": [
    {
     "data": {
      "image/png": "[encoded data removed]",
      "text/plain": [
       "<Figure size 432x288 with 1 Axes>"
      ]
     },
     "metadata": {},
     "output_type": "display_data"
    }
   ],
   "source": [
    "# Generate a pie plot showing the distribution of female versus male mice using pyplot\n",
    "Labels = ['Male', 'Female']\n",
    "Size = [125 , 124]\n",
    "Explode = [0.1, 0]\n",
    "\n",
    "fig1, ax1 = plt.subplots()\n",
    "ax1.pie(Size, explode = Explode, labels = Labels, autopct='%1.1f%%',\n",
    "        shadow=True, startangle=90)\n",
    "ax1.axis('equal')  # Equal aspect ratio ensures that pie is drawn as a circle.\n",
    "\n",
    "plt.show()"
   ]
  },
  {
   "cell_type": "markdown",
   "metadata": {},
   "source": [
    "## Quartiles, Outliers and Boxplots"
   ]
  },
  {
   "cell_type": "code",
   "execution_count": 14,
   "metadata": {},
   "outputs": [],
   "source": [
    "# Calculate the final tumor volume of each mouse across four of the treatment regimens:  \n",
    "# Start by getting the last (greatest) timepoint for each mouse\n",
    "Dups_dropped.head(4)\n",
    "Greates_timepoint = Dups_dropped[['Mouse ID','Drug Regimen','Timepoint']]\n",
    "#group study data them merger with clean (group by regimen then find highest timepoint then meger with clean data)\n",
    "Greates_timepoint.groupby('Drug Regimen').max()\n",
    "# Merge this group df with the original dataframe to get the tumor volume at the last timepoint\n",
    "merge_df = pd.merge(Dups_dropped, Greates_timepoint, on=\"Timepoint\")\n",
    "final_df = merge_df.drop_duplicates(subset=['Mouse ID_x'])"
   ]
  },
  {
   "cell_type": "code",
   "execution_count": 44,
   "metadata": {},
   "outputs": [
    {
     "name": "stdout",
     "output_type": "stream",
     "text": [
      "Series([], Name: Tumor Volume (mm3), dtype: float64)\n",
      "-----------\n",
      "Series([], Name: Tumor Volume (mm3), dtype: float64)\n",
      "Series([], Name: Tumor Volume (mm3), dtype: float64)\n",
      "-----------\n",
      "Series([], Name: Tumor Volume (mm3), dtype: float64)\n",
      "17725    36.321346\n",
      "Name: Tumor Volume (mm3), dtype: float64\n",
      "-----------\n",
      "Series([], Name: Tumor Volume (mm3), dtype: float64)\n",
      "Series([], Name: Tumor Volume (mm3), dtype: float64)\n",
      "-----------\n",
      "Series([], Name: Tumor Volume (mm3), dtype: float64)\n",
      "Series([], Name: Tumor Volume (mm3), dtype: float64)\n",
      "-----------\n",
      "Series([], Name: Tumor Volume (mm3), dtype: float64)\n",
      "Series([], Name: Tumor Volume (mm3), dtype: float64)\n",
      "-----------\n",
      "Series([], Name: Tumor Volume (mm3), dtype: float64)\n",
      "Series([], Name: Tumor Volume (mm3), dtype: float64)\n",
      "-----------\n",
      "Series([], Name: Tumor Volume (mm3), dtype: float64)\n",
      "Series([], Name: Tumor Volume (mm3), dtype: float64)\n",
      "-----------\n",
      "Series([], Name: Tumor Volume (mm3), dtype: float64)\n",
      "Series([], Name: Tumor Volume (mm3), dtype: float64)\n",
      "-----------\n",
      "Series([], Name: Tumor Volume (mm3), dtype: float64)\n",
      "Series([], Name: Tumor Volume (mm3), dtype: float64)\n",
      "-----------\n",
      "Series([], Name: Tumor Volume (mm3), dtype: float64)\n"
     ]
    }
   ],
   "source": [
    "# Put treatments into a list for for loop (and later for plot labels)\n",
    "treatments = final_df['Drug Regimen_x'].unique()\n",
    "# Create empty list to fill with tumor vol data (for plotting)\n",
    "tumor_vol = []\n",
    "for tv in treatments:\n",
    "    dtv = final_df.loc[final_df['Drug Regimen_x'] == tv]['Tumor Volume (mm3)']\n",
    "    x = dtv.quantile([.25, .5, .75])\n",
    "    tumor_vol.append(dtv)\n",
    "    inter_q = x[.75] - x[.25]\n",
    "    lower_bound = x[.25] - (1.5 * inter_q)\n",
    "    upper_bound = x[.75] + (1.5 * inter_q)\n",
    "    print (dtv.loc[dtv < lower_bound])\n",
    "    print('-----------')\n",
    "    print (dtv.loc[dtv > upper_bound])\n",
    "# Calculate the IQR and quantitatively determine if there are any potential outliers.\n",
    "\n",
    "    # Locate the rows which contain mice on each drug and get the tumor volumes\n",
    "    \n",
    "    # add subset \n",
    "    \n",
    "    # Determine outliers using upper and lower bounds\n",
    "    "
   ]
  },
  {
   "cell_type": "code",
   "execution_count": 46,
   "metadata": {
    "scrolled": true
   },
   "outputs": [
    {
     "data": {
      "text/plain": [
       "{'whiskers': [<matplotlib.lines.Line2D at 0x7fd7b9da2580>,\n",
       "  <matplotlib.lines.Line2D at 0x7fd7b9da28e0>,\n",
       "  <matplotlib.lines.Line2D at 0x7fd7b9dabd90>,\n",
       "  <matplotlib.lines.Line2D at 0x7fd7b9db7130>,\n",
       "  <matplotlib.lines.Line2D at 0x7fd7b9dc15b0>,\n",
       "  <matplotlib.lines.Line2D at 0x7fd7b9dc1910>,\n",
       "  <matplotlib.lines.Line2D at 0x7fd7b9f08d90>,\n",
       "  <matplotlib.lines.Line2D at 0x7fd7b9f14130>,\n",
       "  <matplotlib.lines.Line2D at 0x7fd7b9f1e5b0>,\n",
       "  <matplotlib.lines.Line2D at 0x7fd7b9f1e910>,\n",
       "  <matplotlib.lines.Line2D at 0x7fd7b9f29dc0>,\n",
       "  <matplotlib.lines.Line2D at 0x7fd7b9f36160>,\n",
       "  <matplotlib.lines.Line2D at 0x7fd7b9f3f340>,\n",
       "  <matplotlib.lines.Line2D at 0x7fd7b9f3f6a0>,\n",
       "  <matplotlib.lines.Line2D at 0x7fd7b9f49b50>,\n",
       "  <matplotlib.lines.Line2D at 0x7fd7b9f49eb0>,\n",
       "  <matplotlib.lines.Line2D at 0x7fd7b9f60370>,\n",
       "  <matplotlib.lines.Line2D at 0x7fd7b9f606d0>,\n",
       "  <matplotlib.lines.Line2D at 0x7fd7b9f6bb50>,\n",
       "  <matplotlib.lines.Line2D at 0x7fd7b9f6beb0>],\n",
       " 'caps': [<matplotlib.lines.Line2D at 0x7fd7b9da2c40>,\n",
       "  <matplotlib.lines.Line2D at 0x7fd7b9da2fa0>,\n",
       "  <matplotlib.lines.Line2D at 0x7fd7b9db7490>,\n",
       "  <matplotlib.lines.Line2D at 0x7fd7b9db77f0>,\n",
       "  <matplotlib.lines.Line2D at 0x7fd7b9dc1c70>,\n",
       "  <matplotlib.lines.Line2D at 0x7fd7b9dc1fd0>,\n",
       "  <matplotlib.lines.Line2D at 0x7fd7b9f14490>,\n",
       "  <matplotlib.lines.Line2D at 0x7fd7b9f147f0>,\n",
       "  <matplotlib.lines.Line2D at 0x7fd7b9f1ec70>,\n",
       "  <matplotlib.lines.Line2D at 0x7fd7b9f1efd0>,\n",
       "  <matplotlib.lines.Line2D at 0x7fd7b9f364c0>,\n",
       "  <matplotlib.lines.Line2D at 0x7fd7b8984c10>,\n",
       "  <matplotlib.lines.Line2D at 0x7fd7b9f3fa00>,\n",
       "  <matplotlib.lines.Line2D at 0x7fd7b9f3fd60>,\n",
       "  <matplotlib.lines.Line2D at 0x7fd7b9f55250>,\n",
       "  <matplotlib.lines.Line2D at 0x7fd7b9f555b0>,\n",
       "  <matplotlib.lines.Line2D at 0x7fd7b9f60a30>,\n",
       "  <matplotlib.lines.Line2D at 0x7fd7b9f60d90>,\n",
       "  <matplotlib.lines.Line2D at 0x7fd7b9f75250>,\n",
       "  <matplotlib.lines.Line2D at 0x7fd7b9f755e0>],\n",
       " 'boxes': [<matplotlib.lines.Line2D at 0x7fd7b9da2220>,\n",
       "  <matplotlib.lines.Line2D at 0x7fd7b9daba30>,\n",
       "  <matplotlib.lines.Line2D at 0x7fd7b9dc1250>,\n",
       "  <matplotlib.lines.Line2D at 0x7fd7b9f08a30>,\n",
       "  <matplotlib.lines.Line2D at 0x7fd7b9f1e250>,\n",
       "  <matplotlib.lines.Line2D at 0x7fd7b9f29a60>,\n",
       "  <matplotlib.lines.Line2D at 0x7fd7b9f36fa0>,\n",
       "  <matplotlib.lines.Line2D at 0x7fd7b9f497c0>,\n",
       "  <matplotlib.lines.Line2D at 0x7fd7b9f55fd0>,\n",
       "  <matplotlib.lines.Line2D at 0x7fd7b9f6b7f0>],\n",
       " 'medians': [<matplotlib.lines.Line2D at 0x7fd7b9dab340>,\n",
       "  <matplotlib.lines.Line2D at 0x7fd7b9db7b50>,\n",
       "  <matplotlib.lines.Line2D at 0x7fd7b9f08370>,\n",
       "  <matplotlib.lines.Line2D at 0x7fd7b9f14b50>,\n",
       "  <matplotlib.lines.Line2D at 0x7fd7b9f29370>,\n",
       "  <matplotlib.lines.Line2D at 0x7fd7b9f368e0>,\n",
       "  <matplotlib.lines.Line2D at 0x7fd7b9f49100>,\n",
       "  <matplotlib.lines.Line2D at 0x7fd7b9f55910>,\n",
       "  <matplotlib.lines.Line2D at 0x7fd7b9f6b130>,\n",
       "  <matplotlib.lines.Line2D at 0x7fd7b9f75940>],\n",
       " 'fliers': [<matplotlib.lines.Line2D at 0x7fd7b9dab6a0>,\n",
       "  <matplotlib.lines.Line2D at 0x7fd7b9db7eb0>,\n",
       "  <matplotlib.lines.Line2D at 0x7fd7b9f086d0>,\n",
       "  <matplotlib.lines.Line2D at 0x7fd7b9f14eb0>,\n",
       "  <matplotlib.lines.Line2D at 0x7fd7b9f29700>,\n",
       "  <matplotlib.lines.Line2D at 0x7fd7b9f36c40>,\n",
       "  <matplotlib.lines.Line2D at 0x7fd7b9f49460>,\n",
       "  <matplotlib.lines.Line2D at 0x7fd7b9f55c70>,\n",
       "  <matplotlib.lines.Line2D at 0x7fd7b9f6b490>,\n",
       "  <matplotlib.lines.Line2D at 0x7fd7b9f75ca0>],\n",
       " 'means': []}"
      ]
     },
     "execution_count": 46,
     "metadata": {},
     "output_type": "execute_result"
    },
    {
     "data": {
      "image/png": "[encoded data removed]",
      "text/plain": [
       "<Figure size 432x288 with 1 Axes>"
      ]
     },
     "metadata": {
      "needs_background": "light"
     },
     "output_type": "display_data"
    }
   ],
   "source": [
    "# Generate a box plot of the final tumor volume of each mouse across four regimens of interest\n",
    "plt.boxplot(tumor_vol)"
   ]
  },
  {
   "cell_type": "markdown",
   "metadata": {},
   "source": [
    "## Line and Scatter Plots"
   ]
  },
  {
   "cell_type": "code",
   "execution_count": 71,
   "metadata": {},
   "outputs": [
    {
     "data": {
      "image/png": "[encoded data removed]",
      "text/plain": [
       "<Figure size 432x288 with 1 Axes>"
      ]
     },
     "metadata": {
      "needs_background": "light"
     },
     "output_type": "display_data"
    }
   ],
   "source": [
    "# Generate a line plot of tumor volume vs. time point for a mouse treated with Capomulin\n",
    "tumor_volume_only = final_df.loc[final_df[\"Drug Regimen_x\"] == \"Capomulin\", :]\n",
    "\n",
    "tvo = tumor_volume_only['Tumor Volume (mm3)']\n",
    "tpo =  tumor_volume_only['Timepoint']\n",
    "\n",
    "plt.plot(tvo)\n",
    "plt.plot(tpo)\n",
    "plt.show()"
   ]
  },
  {
   "cell_type": "code",
   "execution_count": 77,
   "metadata": {},
   "outputs": [
    {
     "data": {
      "text/plain": [
       "<matplotlib.collections.PathCollection at 0x7fd7ba006790>"
      ]
     },
     "execution_count": 77,
     "metadata": {},
     "output_type": "execute_result"
    },
    {
     "data": {
      "image/png": "[encoded data removed]",
      "text/plain": [
       "<Figure size 432x288 with 1 Axes>"
      ]
     },
     "metadata": {
      "needs_background": "light"
     },
     "output_type": "display_data"
    }
   ],
   "source": [
    "# Generate a scatter plot of average tumor volume vs. mouse weight for the Capomulin regimen\n",
    "atv = tumor_volume_only['Tumor Volume (mm3)']\n",
    "mw = tumor_volume_only['Weight (g)']\n",
    "\n",
    "plt.scatter(atv, mw)"
   ]
  },
  {
   "cell_type": "markdown",
   "metadata": {},
   "source": [
    "## Correlation and Regression"
   ]
  },
  {
   "cell_type": "code",
   "execution_count": 80,
   "metadata": {},
   "outputs": [],
   "source": [
    "# Calculate the correlation coefficient and linear regression model \n",
    "# for mouse weight and average tumor volume for the Capomulin regimen\n"
   ]
  }
 ],
 "metadata": {
  "anaconda-cloud": {},
  "kernelspec": {
   "display_name": "Python 3",
   "language": "python",
   "name": "python3"
  },
  "language_info": {
   "codemirror_mode": {
    "name": "ipython",
    "version": 3
   },
   "file_extension": ".py",
   "mimetype": "text/x-python",
   "name": "python",
   "nbconvert_exporter": "python",
   "pygments_lexer": "ipython3",
   "version": "3.8.5"
  }
 },
 "nbformat": 4,
 "nbformat_minor": 4
}
